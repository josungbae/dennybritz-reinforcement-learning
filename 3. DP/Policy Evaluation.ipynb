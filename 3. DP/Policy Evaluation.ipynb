{
 "cells": [
  {
   "cell_type": "code",
   "execution_count": 1,
   "source": [
    "import numpy as np\n",
    "import sys\n",
    "if \"../\" not in sys.path:\n",
    "  sys.path.append(\"../\") \n",
    "from lib.envs.gridworld import GridworldEnv"
   ],
   "outputs": [],
   "metadata": {
    "collapsed": true
   }
  },
  {
   "cell_type": "code",
   "execution_count": 2,
   "source": [
    "env = GridworldEnv()"
   ],
   "outputs": [],
   "metadata": {
    "collapsed": true
   }
  },
  {
   "cell_type": "code",
   "execution_count": 11,
   "source": [
    "def policy_eval(policy, env, discount_factor=1.0, theta=0.00001):\n",
    "    \"\"\"\n",
    "    Evaluate a policy given an environment and a full description of the environment's dynamics.\n",
    "    \n",
    "    Args:\n",
    "        policy: [S, A] shaped matrix representing the policy.\n",
    "        env: OpenAI env. env.P represents the transition probabilities of the environment.\n",
    "            env.P[s][a] is a list of transition tuples (prob, next_state, reward, done).\n",
    "            env.nS is a number of states in the environment. \n",
    "            env.nA is a number of actions in the environment.\n",
    "        theta: We stop evaluation once our value function change is less than theta for all states.\n",
    "        discount_factor: Gamma discount factor.\n",
    "    \n",
    "    Returns:\n",
    "        V: vector of length env.nS representing the value function.\n",
    "    \"\"\"\n",
    "    # Start with a random (all 0) value function\n",
    "    V = np.zeros(env.nS)\n",
    "    while True:\n",
    "        # TODO: Implement!\n",
    "        threshold = 0\n",
    "        for s in range(env.nS):\n",
    "            state_value = 0\n",
    "            for a in range(env.nA): # 이 경우는 state 별 가능한 action이 전체집합으로 모두 동일하기 때문에 env.nA로 해도 됨. 그렇지 않은 경우는 enumerate(policy[s]) 로 사용.\n",
    "                state_action_value = 0\n",
    "                for i in env.P[s][a]: # i: s에서 a를 했을 때 이동 가능한 다음 state 정보\n",
    "                    \"\"\"\n",
    "                    solution에서는 s'에 대한 summation을 하지 않음.\n",
    "                    gridworld env에서는 action을 했을 때 s'이 deterministic하게 결정되기 때문에 괜찮지만,\n",
    "                    다른 env에서도 적용하려면 아래처럼 s'에 대한 summation을 진행한 다음에 계산하는게 맞지 않을까?\n",
    "                    \"\"\"\n",
    "                    state_action_value += (i[0] * V[i[1]]) # i[0]: transition prob , i[1]: next state\n",
    "\n",
    "                state_value += (policy[s][a] * (env.P[s][a][0][2] + discount_factor * state_action_value))\n",
    "\n",
    "            threshold = max(threshold, np.abs(V[s]-state_value))\n",
    "            \"\"\"\n",
    "            위에서 계산한 threshold는 특정 s에 대한 threshold 임.\n",
    "            따라서 iteration 종료 조건에 사용하기 위해서는 모든 s에 대한 threshold 중 최대값을 구해야 함.\n",
    "            \"\"\"\n",
    "            V[s] = state_value\n",
    "        \n",
    "        if threshold < theta:\n",
    "            break\n",
    "    return np.array(V)"
   ],
   "outputs": [],
   "metadata": {
    "collapsed": true
   }
  },
  {
   "cell_type": "code",
   "execution_count": 12,
   "source": [
    "random_policy = np.ones([env.nS, env.nA]) / env.nA\n",
    "v = policy_eval(random_policy, env)\n",
    "v"
   ],
   "outputs": [
    {
     "output_type": "execute_result",
     "data": {
      "text/plain": [
       "array([  0.        , -13.99993529, -19.99990698, -21.99989761,\n",
       "       -13.99993529, -17.9999206 , -19.99991379, -19.99991477,\n",
       "       -19.99990698, -19.99991379, -17.99992725, -13.99994569,\n",
       "       -21.99989761, -19.99991477, -13.99994569,   0.        ])"
      ]
     },
     "metadata": {},
     "execution_count": 12
    }
   ],
   "metadata": {
    "collapsed": true
   }
  },
  {
   "cell_type": "code",
   "execution_count": 13,
   "source": [
    "# Test: Make sure the evaluated policy is what we expected\n",
    "expected_v = np.array([0, -14, -20, -22, -14, -18, -20, -20, -20, -20, -18, -14, -22, -20, -14, 0])\n",
    "np.testing.assert_array_almost_equal(v, expected_v, decimal=2)"
   ],
   "outputs": [],
   "metadata": {}
  },
  {
   "cell_type": "code",
   "execution_count": null,
   "source": [],
   "outputs": [],
   "metadata": {
    "collapsed": true
   }
  }
 ],
 "metadata": {
  "kernelspec": {
   "name": "python3",
   "display_name": "Python 3.8.10 64-bit ('dennybritz-reinforcement-learning-vHFc5M9T': pipenv)"
  },
  "language_info": {
   "codemirror_mode": {
    "name": "ipython",
    "version": 3
   },
   "file_extension": ".py",
   "mimetype": "text/x-python",
   "name": "python",
   "nbconvert_exporter": "python",
   "pygments_lexer": "ipython3",
   "version": "3.8.10"
  },
  "interpreter": {
   "hash": "2ec098a07e92f4ebe53dfcd804baf622d74b064a83a562e3c7b20137eab92767"
  }
 },
 "nbformat": 4,
 "nbformat_minor": 1
}