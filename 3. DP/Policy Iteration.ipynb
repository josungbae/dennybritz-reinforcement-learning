{
 "cells": [
  {
   "cell_type": "code",
   "execution_count": 1,
   "source": [
    "import numpy as np\n",
    "import pprint\n",
    "import sys\n",
    "if \"../\" not in sys.path:\n",
    "  sys.path.append(\"../\") \n",
    "from lib.envs.gridworld import GridworldEnv"
   ],
   "outputs": [],
   "metadata": {
    "collapsed": true
   }
  },
  {
   "cell_type": "code",
   "execution_count": 2,
   "source": [
    "pp = pprint.PrettyPrinter(indent=2)\n",
    "env = GridworldEnv()"
   ],
   "outputs": [],
   "metadata": {
    "collapsed": true
   }
  },
  {
   "cell_type": "code",
   "execution_count": 22,
   "source": [
    "def policy_eval(policy, env, discount_factor=1.0, theta=0.00001):\n",
    "    \"\"\"\n",
    "    Evaluate a policy given an environment and a full description of the environment's dynamics.\n",
    "    \n",
    "    Args:\n",
    "        policy: [S, A] shaped matrix representing the policy.\n",
    "        env: OpenAI env. env.P represents the transition probabilities of the environment.\n",
    "            env.P[s][a] is a list of transition tuples (prob, next_state, reward, done).\n",
    "            env.nS is a number of states in the environment. \n",
    "            env.nA is a number of actions in the environment.\n",
    "        theta: We stop evaluation once our value function change is less than theta for all states.\n",
    "        discount_factor: Gamma discount factor.\n",
    "    \n",
    "    Returns:\n",
    "        V: vector of length env.nS representing the value function.\n",
    "    \"\"\"\n",
    "    # Start with a random (all 0) value function\n",
    "    V = np.zeros(env.nS)\n",
    "    while True:\n",
    "        # TODO: Implement!\n",
    "        threshold = 0\n",
    "        for s in range(env.nS):\n",
    "            state_value = 0\n",
    "            for a in range(env.nA): # 이 경우는 state 별 가능한 action이 전체집합으로 모두 동일하기 때문에 env.nA로 해도 됨. 그렇지 않은 경우는 enumerate(policy[s]) 로 사용.\n",
    "                state_action_value = 0\n",
    "                for i in env.P[s][a]: # i: s에서 a를 했을 때 이동 가능한 다음 state 정보\n",
    "                    \"\"\"\n",
    "                    solution에서는 s'에 대한 summation을 하지 않음.\n",
    "                    gridworld env에서는 action을 했을 때 s'이 deterministic하게 결정되기 때문에 괜찮지만,\n",
    "                    다른 env에서도 적용하려면 아래처럼 s'에 대한 summation을 진행한 다음에 계산하는게 맞지 않을까?\n",
    "                    \"\"\"\n",
    "                    state_action_value += (i[0] * V[i[1]]) # i[0]: transition prob , i[1]: next state\n",
    "\n",
    "                state_value += (policy[s][a] * (env.P[s][a][0][2] + discount_factor * state_action_value))\n",
    "\n",
    "            threshold = max(threshold, np.abs(V[s]-state_value))\n",
    "            \"\"\"\n",
    "            위에서 계산한 threshold는 특정 s에 대한 threshold 임.\n",
    "            따라서 iteration 종료 조건에 사용하기 위해서는 모든 s에 대한 threshold 중 최대값을 구해야 함.\n",
    "            \"\"\"\n",
    "            V[s] = state_value\n",
    "        \n",
    "        if threshold < theta:\n",
    "            break\n",
    "    return np.array(V)"
   ],
   "outputs": [],
   "metadata": {
    "collapsed": true
   }
  },
  {
   "cell_type": "code",
   "execution_count": 26,
   "source": [
    "def policy_improvement(env, policy_eval_fn=policy_eval, discount_factor=1.0):\n",
    "    \"\"\"\n",
    "    Policy Improvement Algorithm. Iteratively evaluates and improves a policy\n",
    "    until an optimal policy is found.\n",
    "    \n",
    "    Args:\n",
    "        env: The OpenAI envrionment.\n",
    "        policy_eval_fn: Policy Evaluation function that takes 3 arguments:\n",
    "            policy, env, discount_factor.\n",
    "        discount_factor: gamma discount factor.\n",
    "        \n",
    "    Returns:\n",
    "        A tuple (policy, V). \n",
    "        policy is the optimal policy, a matrix of shape [S, A] where each state s\n",
    "        contains a valid probability distribution over actions.\n",
    "        V is the value function for the optimal policy.\n",
    "        \n",
    "    \"\"\"\n",
    "    # Start with a random policy\n",
    "    policy = np.ones([env.nS, env.nA]) / env.nA\n",
    "    \n",
    "    while True:\n",
    "        # Implement this!\n",
    "        v = policy_eval_fn(policy, env, discount_factor)\n",
    "        policy_stable = True\n",
    "        for s in range(env.nS):\n",
    "            old_action = np.argmax(policy[s])\n",
    "            action_value_list = []\n",
    "            for action, action_prob in enumerate(policy[s]): # 각 action 별 value 를 구해서 그 중에 최대값을 가지는 action을 구하는 것이므로, action_prob는 사용할 필요가 없음.\n",
    "                state_action_value = 0\n",
    "                for prob, next_state, reward, done in env.P[s][action]:\n",
    "                    state_action_value += prob * (reward + discount_factor * v[next_state])\n",
    "                \n",
    "                action_value_list.append(state_action_value)\n",
    "            \n",
    "            greedy_action = np.argmax(action_value_list)\n",
    "            policy[s] = np.zeros(env.nA) # 현재 상태에서 optimal action이 아닌 action 들은 모두 고를 확률을 0으로 업데이트.\n",
    "            policy[s][greedy_action] = 1 # optimal action 에 대해서만 확률을 1로 업데이트\n",
    "\n",
    "            # policy distribution이 같을 때가 아니라, 모든 s에 대해 policy[s] update가 없을 때 iteration 종료. \n",
    "            if old_action != greedy_action: \n",
    "                policy_stable = False\n",
    "\n",
    "        if policy_stable:                \n",
    "            break\n",
    "    \n",
    "    return policy, v"
   ],
   "outputs": [],
   "metadata": {
    "collapsed": true
   }
  },
  {
   "cell_type": "code",
   "execution_count": 27,
   "source": [
    "policy, v = policy_improvement(env)\n",
    "print(\"Policy Probability Distribution:\")\n",
    "print(policy)\n",
    "print(\"\")\n",
    "\n",
    "print(\"Reshaped Grid Policy (0=up, 1=right, 2=down, 3=left):\")\n",
    "print(np.reshape(np.argmax(policy, axis=1), env.shape))\n",
    "print(\"\")\n",
    "\n",
    "print(\"Value Function:\")\n",
    "print(v)\n",
    "print(\"\")\n",
    "\n",
    "print(\"Reshaped Grid Value Function:\")\n",
    "print(v.reshape(env.shape))\n",
    "print(\"\")\n",
    "\n"
   ],
   "outputs": [
    {
     "output_type": "stream",
     "name": "stdout",
     "text": [
      "Policy Probability Distribution:\n",
      "[[1. 0. 0. 0.]\n",
      " [0. 0. 0. 1.]\n",
      " [0. 0. 0. 1.]\n",
      " [0. 0. 1. 0.]\n",
      " [1. 0. 0. 0.]\n",
      " [1. 0. 0. 0.]\n",
      " [1. 0. 0. 0.]\n",
      " [0. 0. 1. 0.]\n",
      " [1. 0. 0. 0.]\n",
      " [1. 0. 0. 0.]\n",
      " [0. 1. 0. 0.]\n",
      " [0. 0. 1. 0.]\n",
      " [1. 0. 0. 0.]\n",
      " [0. 1. 0. 0.]\n",
      " [0. 1. 0. 0.]\n",
      " [1. 0. 0. 0.]]\n",
      "\n",
      "Reshaped Grid Policy (0=up, 1=right, 2=down, 3=left):\n",
      "[[0 3 3 2]\n",
      " [0 0 0 2]\n",
      " [0 0 1 2]\n",
      " [0 1 1 0]]\n",
      "\n",
      "Value Function:\n",
      "[ 0. -1. -2. -3. -1. -2. -3. -2. -2. -3. -2. -1. -3. -2. -1.  0.]\n",
      "\n",
      "Reshaped Grid Value Function:\n",
      "[[ 0. -1. -2. -3.]\n",
      " [-1. -2. -3. -2.]\n",
      " [-2. -3. -2. -1.]\n",
      " [-3. -2. -1.  0.]]\n",
      "\n"
     ]
    }
   ],
   "metadata": {}
  },
  {
   "cell_type": "code",
   "execution_count": 29,
   "source": [
    "# Test the value function\n",
    "expected_v = np.array([ 0, -1, -2, -3, -1, -2, -3, -2, -2, -3, -2, -1, -3, -2, -1,  0])\n",
    "np.testing.assert_array_almost_equal(v, expected_v, decimal=2)"
   ],
   "outputs": [],
   "metadata": {}
  },
  {
   "cell_type": "code",
   "execution_count": null,
   "source": [],
   "outputs": [],
   "metadata": {
    "collapsed": true
   }
  }
 ],
 "metadata": {
  "kernelspec": {
   "name": "python3",
   "display_name": "Python 3.8.10 64-bit ('dennybritz-reinforcement-learning-vHFc5M9T': pipenv)"
  },
  "language_info": {
   "codemirror_mode": {
    "name": "ipython",
    "version": 3
   },
   "file_extension": ".py",
   "mimetype": "text/x-python",
   "name": "python",
   "nbconvert_exporter": "python",
   "pygments_lexer": "ipython3",
   "version": "3.8.10"
  },
  "interpreter": {
   "hash": "2ec098a07e92f4ebe53dfcd804baf622d74b064a83a562e3c7b20137eab92767"
  }
 },
 "nbformat": 4,
 "nbformat_minor": 1
}